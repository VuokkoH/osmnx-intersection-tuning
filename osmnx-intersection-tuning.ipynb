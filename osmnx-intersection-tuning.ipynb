{
 "cells": [
  {
   "cell_type": "markdown",
   "id": "2b11e731",
   "metadata": {},
   "source": [
    "# OSMnx Intersection cleaning tuning\n",
    "\n",
    "A sensitivity analysis of intersection simplification parameterisation undertaken for the Australian National Liveability Study 2018, in January 2019.\n",
    "\n",
    "Updating in 2022 to examine implications for other settings, including Helsink, and noting that the OSMnx functionality may have changed, hence requiring code updates."
   ]
  },
  {
   "cell_type": "code",
   "execution_count": null,
   "id": "8370bd92",
   "metadata": {},
   "outputs": [],
   "source": [
    "import osmnx as ox, matplotlib.pyplot as plt, numpy as np\n",
    "import matplotlib.patches as patches\n",
    "ox.config(use_cache=True, log_console=True)\n",
    "%matplotlib inline\n",
    "\n",
    "ox.__version__"
   ]
  },
  {
   "cell_type": "code",
   "execution_count": null,
   "id": "37b46c82",
   "metadata": {},
   "outputs": [],
   "source": [
    "pedestrian = '[\"area\"!~\"yes\"][\"highway\"!~\"motor|proposed|construction|abandoned|platform|raceway\"][\"foot\"!~\"no\"][\"service\"!~\"private\"][\"access\"!~\"private\"]'\n"
   ]
  },
  {
   "cell_type": "code",
   "execution_count": null,
   "id": "40f7178e",
   "metadata": {},
   "outputs": [],
   "source": [
    "def intersection_tuning(address):\n",
    "  # print(address)\n",
    "  G = ox.graph_from_address(address, custom_filter= pedestrian, distance=750)\n",
    "  G_proj = ox.project_graph(G)\n",
    "  g_proj_gdfs = ox.graph_to_gdfs(G_proj, nodes=False, edges=True, fill_edge_geometry=True)\n",
    "  #itereate over cleaning buffer distance\n",
    "  buffers = [15,12,10,8,5]\n",
    "  # instantiate plot\n",
    "  fig, axarr = plt.subplots(ncols=5, sharex='col', sharey='row', squeeze=False, figsize=(18,4.5), dpi=80)\n",
    "  for i in range(len(buffers)):\n",
    "    # clean up the intersections and extract their xy coords\n",
    "    intersections = ox.clean_intersections(G_proj, tolerance=buffers[i], dead_ends=False)\n",
    "    points = np.array([point.xy for point in intersections])\n",
    "    # plot the cleaned-up intersections\n",
    "    g_proj_gdfs.plot(ax = axarr[0][i])\n",
    "    axarr[0][i].scatter(x=points[:,0], y=points[:,1], s = 10, zorder=2, color=None, edgecolors='#000000')\n",
    "    axarr[0][i].set_title(\"Tolerance: {}\".format(buffers[i]))\n",
    "    axarr[0][i].set_aspect(1)\n",
    "    axarr[0][i].set_axis_off()\n",
    "    # axarr[0][i].add_patch(patches.Rectangle((0.8, 0.8), 0.2, 0.2))\n",
    "  plt.suptitle(address, fontsize=14, fontweight='bold')    \n",
    "  plt.tight_layout()\n",
    "  plt.show()\n",
    "  "
   ]
  },
  {
   "cell_type": "code",
   "execution_count": null,
   "id": "e06080fa",
   "metadata": {},
   "outputs": [],
   "source": [
    "for address in [\n",
    "                'Chippendale, NSW, Australia',\n",
    "                'Armstrong Park, Huntingdale, Western Australia',\n",
    "                'Palmerston, ACT, Australia',\n",
    "                'Gold Coast, QLD, Australia'\n",
    "               ]:\n",
    "  intersection_tuning(address)"
   ]
  }
 ],
 "metadata": {
  "kernelspec": {
   "display_name": "Python 3 (ipykernel)",
   "language": "python",
   "name": "python3"
  },
  "language_info": {
   "codemirror_mode": {
    "name": "ipython",
    "version": 3
   },
   "file_extension": ".py",
   "mimetype": "text/x-python",
   "name": "python",
   "nbconvert_exporter": "python",
   "pygments_lexer": "ipython3",
   "version": "3.10.5"
  }
 },
 "nbformat": 4,
 "nbformat_minor": 5
}
